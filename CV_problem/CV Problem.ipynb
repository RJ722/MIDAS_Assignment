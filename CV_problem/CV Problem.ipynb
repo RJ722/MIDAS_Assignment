{
 "cells": [
  {
   "cell_type": "code",
   "execution_count": 1,
   "metadata": {
    "colab": {},
    "colab_type": "code",
    "id": "8fTYpzdVqDh2"
   },
   "outputs": [
    {
     "name": "stderr",
     "output_type": "stream",
     "text": [
      "Using TensorFlow backend.\n"
     ]
    }
   ],
   "source": [
    "import keras\n",
    "import numpy as np\n",
    "import pickle\n",
    "import tensorflow as tf\n",
    "\n",
    "from keras import backend as K, regularizers, optimizers\n",
    "from keras.models import Sequential\n",
    "from keras.layers import Dense, Dropout, Flatten\n",
    "from keras.layers import Conv2D, MaxPooling2D, InputLayer\n",
    "from keras.layers.normalization import BatchNormalization\n",
    "from keras.preprocessing.image import ImageDataGenerator\n",
    "from matplotlib import pyplot as plt\n",
    "from sklearn import svm\n",
    "from sklearn.ensemble import RandomForestClassifier\n",
    "from sklearn.metrics import confusion_matrix, classification_report\n",
    "from sklearn.model_selection import GridSearchCV, train_test_split\n",
    "from sklearn.neighbors import KNeighborsClassifier\n",
    "from sklearn.tree import DecisionTreeClassifier"
   ]
  },
  {
   "cell_type": "code",
   "execution_count": 32,
   "metadata": {
    "colab": {},
    "colab_type": "code",
    "id": "pSz0JZK2qDil"
   },
   "outputs": [],
   "source": [
    "with open(PATH + \"train_image.pkl\", 'rb') as f:\n",
    "    X = np.array(pickle.load(f))\n",
    "    \n",
    "with open(PATH + 'train_label.pkl', 'rb') as f:\n",
    "    Y = np.array(pickle.load(f))\n",
    "\n",
    "X = X/255"
   ]
  },
  {
   "cell_type": "code",
   "execution_count": 43,
   "metadata": {
    "colab": {},
    "colab_type": "code",
    "id": "ENSRzkNyqDi8"
   },
   "outputs": [],
   "source": [
    "x_train, x_val, y_train, y_val = train_test_split(X, Y)"
   ]
  },
  {
   "cell_type": "markdown",
   "metadata": {
    "colab_type": "text",
    "id": "T2He7QZQqDjV"
   },
   "source": [
    "## Data Exploration\n",
    "\n",
    "Now, let's look at what we've got here."
   ]
  },
  {
   "cell_type": "code",
   "execution_count": 34,
   "metadata": {
    "colab": {
     "base_uri": "https://localhost:8080/",
     "height": 119
    },
    "colab_type": "code",
    "id": "A_82qTmBqDjf",
    "outputId": "2a53aa7b-d12c-436f-adf2-15b0c69f8651",
    "scrolled": true
   },
   "outputs": [
    {
     "name": "stdout",
     "output_type": "stream",
     "text": [
      "Dimensions of training data: \n",
      "(6000, 784)\n",
      "(6000,)\n",
      "Dimensions of validation data: \n",
      "(2000, 784)\n",
      "(2000,)\n"
     ]
    }
   ],
   "source": [
    "print(\"Dimensions of training data: \")\n",
    "print(x_train.shape)\n",
    "print(y_train.shape)\n",
    "\n",
    "print(\"Dimensions of validation data: \")\n",
    "print(x_val.shape)\n",
    "print(y_val.shape)"
   ]
  },
  {
   "cell_type": "markdown",
   "metadata": {
    "colab_type": "text",
    "id": "-2HV8QROqDkE"
   },
   "source": [
    "`784`, interesting - That is a (28, 28) image. Let's look at some of these below."
   ]
  },
  {
   "cell_type": "code",
   "execution_count": 0,
   "metadata": {
    "colab": {
     "base_uri": "https://localhost:8080/",
     "height": 589
    },
    "colab_type": "code",
    "id": "TLT1KBqcqDkP",
    "outputId": "9b30297e-9c7f-4160-9187-04fc3ffe8fbe"
   },
   "outputs": [],
   "source": [
    "random_index = np.random.randint(0, 6001, size=(25,))\n",
    "\n",
    "plt.figure(figsize=(10,10))\n",
    "for i in range(25):\n",
    "    plt.subplot(5,5,i+1)\n",
    "    plt.xticks([])\n",
    "    plt.yticks([])\n",
    "    plt.imshow(x_train[random_index[i]].reshape((28, 28)))\n",
    "    plt.xlabel(y_train[random_index[i]])\n",
    "plt.show()"
   ]
  },
  {
   "cell_type": "markdown",
   "metadata": {
    "colab_type": "text",
    "id": "hSTWEvFqqDkj"
   },
   "source": [
    "#### Fashion MNIST\n",
    "\n",
    "Ah, the classic Fashion MNIST set. This is gonna be interesting. Let's try some basic machine learning techniques first.\n",
    "\n",
    "Let's first create a helper function so that we can assess the performance of a model easily."
   ]
  },
  {
   "cell_type": "code",
   "execution_count": 0,
   "metadata": {
    "colab": {},
    "colab_type": "code",
    "id": "SEef0wy6qDko"
   },
   "outputs": [],
   "source": [
    "def evaluate_model(model):\n",
    "    y_pred = model.predict(x_val)\n",
    "    print(\"Classifciation Report:\")\n",
    "    print(classification_report(y_val, y_pred))\n",
    "    print(\"Confusion Matrix:\\n\")\n",
    "    print(confusion_matrix(y_val, y_pred))\n",
    "    print(\"\\nAccuracy of the model on validation set: {}\".format(\n",
    "        model.score(x_val, y_val)))\n",
    "    print(\"Accuracy of the model on Training set: {}\".format(\n",
    "        model.score(x_train, y_train)))"
   ]
  },
  {
   "cell_type": "markdown",
   "metadata": {
    "colab_type": "text",
    "id": "NLDVw1_xqDk6"
   },
   "source": [
    "#### Let's try SVM first"
   ]
  },
  {
   "cell_type": "code",
   "execution_count": 0,
   "metadata": {
    "colab": {
     "base_uri": "https://localhost:8080/",
     "height": 374
    },
    "colab_type": "code",
    "id": "vEdiYL07qDk7",
    "outputId": "ee55cab4-17e4-4382-ce87-fd382914d67c"
   },
   "outputs": [],
   "source": [
    "SVC = svm.SVC(gamma='scale').fit(x_train, y_train)\n",
    "evaluate_model(SVC)"
   ]
  },
  {
   "cell_type": "markdown",
   "metadata": {
    "colab_type": "text",
    "id": "xrPx8yq7qDlM"
   },
   "source": [
    "83% accuracy on first go. We're upto a great start. Let's try some other things now"
   ]
  },
  {
   "cell_type": "code",
   "execution_count": 0,
   "metadata": {
    "colab": {
     "base_uri": "https://localhost:8080/",
     "height": 374
    },
    "colab_type": "code",
    "id": "tGXbhm1rqDlT",
    "outputId": "2503aba3-4fcb-4dd3-aed8-2bc86734e660"
   },
   "outputs": [],
   "source": [
    "dtree_model = DecisionTreeClassifier(max_depth = 17).fit(x_train, y_train)\n",
    "evaluate_model(dtree_model)"
   ]
  },
  {
   "cell_type": "markdown",
   "metadata": {
    "colab_type": "text",
    "id": "vv4R2ZNbqze0"
   },
   "source": [
    "This shows clear signs of overfitting. Let's try a different `max_depth`."
   ]
  },
  {
   "cell_type": "code",
   "execution_count": 0,
   "metadata": {
    "colab": {
     "base_uri": "https://localhost:8080/",
     "height": 374
    },
    "colab_type": "code",
    "id": "YFSMxtubqDlt",
    "outputId": "02947be9-6cfa-4671-9e86-8d068f8a47b2"
   },
   "outputs": [],
   "source": [
    "dtree_model = DecisionTreeClassifier(max_depth=25).fit(x_train, y_train)\n",
    "evaluate_model(dtree_model)"
   ]
  },
  {
   "cell_type": "code",
   "execution_count": 0,
   "metadata": {
    "colab": {
     "base_uri": "https://localhost:8080/",
     "height": 374
    },
    "colab_type": "code",
    "id": "hO-IpibxqDmE",
    "outputId": "76f12830-3c9b-4035-974a-f8d45b190109"
   },
   "outputs": [],
   "source": [
    "knn = KNeighborsClassifier(n_neighbors = 7).fit(x_train, y_train)\n",
    "evaluate_model(knn)"
   ]
  },
  {
   "cell_type": "code",
   "execution_count": 0,
   "metadata": {
    "colab": {
     "base_uri": "https://localhost:8080/",
     "height": 443
    },
    "colab_type": "code",
    "id": "Nkz1gv_-qDmV",
    "outputId": "1c2268b7-700e-4742-b34a-bbd83fc5ed27"
   },
   "outputs": [],
   "source": [
    "rfc = RandomForestClassifier(min_samples_leaf=20).fit(x_train, y_train)\n",
    "evaluate_model(rfc)"
   ]
  },
  {
   "cell_type": "code",
   "execution_count": 0,
   "metadata": {
    "colab": {
     "base_uri": "https://localhost:8080/",
     "height": 438
    },
    "colab_type": "code",
    "id": "zNNS5j62qDms",
    "outputId": "3af3f4fa-e469-426a-daf0-a5f9d0834b83"
   },
   "outputs": [],
   "source": [
    "rfc = RandomForestClassifier(min_samples_leaf=10).fit(x_train, y_train)\n",
    "evaluate_model(rfc)"
   ]
  },
  {
   "cell_type": "code",
   "execution_count": 0,
   "metadata": {
    "colab": {
     "base_uri": "https://localhost:8080/",
     "height": 438
    },
    "colab_type": "code",
    "id": "_AFNbfZPqDnG",
    "outputId": "df745392-d95d-4547-d2bc-6435233bb9ff"
   },
   "outputs": [],
   "source": [
    "rfc = RandomForestClassifier(min_samples_leaf=5).fit(x_train, y_train)\n",
    "evaluate_model(rfc)"
   ]
  },
  {
   "cell_type": "code",
   "execution_count": 0,
   "metadata": {
    "colab": {
     "base_uri": "https://localhost:8080/",
     "height": 443
    },
    "colab_type": "code",
    "id": "jdRgica2qDng",
    "outputId": "bbcd98f2-fcee-4b18-8be8-e11650f0c4dd"
   },
   "outputs": [],
   "source": [
    "rfc = RandomForestClassifier(min_samples_leaf=4).fit(x_train, y_train)\n",
    "evaluate_model(rfc)"
   ]
  },
  {
   "cell_type": "markdown",
   "metadata": {
    "colab_type": "text",
    "id": "zuIatK4bqDoA"
   },
   "source": [
    "Hmm, SVM seems to be the winner here. Let's try a grid search for parameters in this case."
   ]
  },
  {
   "cell_type": "code",
   "execution_count": 0,
   "metadata": {
    "colab": {
     "base_uri": "https://localhost:8080/",
     "height": 170
    },
    "colab_type": "code",
    "id": "NMTLP7zIqDoD",
    "outputId": "cf79295c-f60b-43bb-bca2-7b8afba0dd47"
   },
   "outputs": [],
   "source": [
    "parameters = {'kernel':('linear', 'rbf'), 'C':[1, 10]}\n",
    "svc = svm.SVC(gamma=\"scale\")\n",
    "clf = GridSearchCV(svc, parameters, cv=5)\n",
    "clf.fit(x_train, y_train)"
   ]
  },
  {
   "cell_type": "code",
   "execution_count": 0,
   "metadata": {
    "colab": {
     "base_uri": "https://localhost:8080/",
     "height": 85
    },
    "colab_type": "code",
    "id": "08MdtHRMqDoh",
    "outputId": "bd983347-0b8d-40ef-dc59-36c8dd4d3ce6"
   },
   "outputs": [],
   "source": [
    "clf.best_estimator_"
   ]
  },
  {
   "cell_type": "code",
   "execution_count": 0,
   "metadata": {
    "colab": {
     "base_uri": "https://localhost:8080/",
     "height": 34
    },
    "colab_type": "code",
    "id": "nxclKuk4qDo0",
    "outputId": "41ad50ae-e3b3-438c-f978-0f4ed6b0a767"
   },
   "outputs": [],
   "source": [
    "clf.score(x_val, y_val)"
   ]
  },
  {
   "cell_type": "code",
   "execution_count": 0,
   "metadata": {
    "colab": {
     "base_uri": "https://localhost:8080/",
     "height": 374
    },
    "colab_type": "code",
    "id": "rMfXhPBFqDpQ",
    "outputId": "944b5882-16e2-4257-9b40-8e5d6bdf2eeb"
   },
   "outputs": [],
   "source": [
    "evaluate_model(clf)"
   ]
  },
  {
   "cell_type": "markdown",
   "metadata": {
    "colab_type": "text",
    "id": "qTwGK9j3qDpz"
   },
   "source": [
    "Woohoo, `85%` is decent enough accuracy for submission. Our results seem match the [standard benchmark results].\n",
    "\n",
    "[standard benchmark results]: http://fashion-mnist.s3-website.eu-central-1.amazonaws.com/"
   ]
  },
  {
   "cell_type": "markdown",
   "metadata": {
    "colab_type": "text",
    "id": "PXpm4BmxqDp6"
   },
   "source": [
    "### Let's try a basic Convolutional Neural Network\n",
    "\n",
    "We've already reached a pretty high accuracy bar, but according to [zalando research], many CNN based architectures have had also been pretty successful. Since, I do not have as much data as in the original Fashion MNIST, I should train on a relatively simpler architecture.\n",
    "\n",
    "[zalando research]: [https://github.com/zalandoresearch/fashion-mnist#benchmark]"
   ]
  },
  {
   "cell_type": "code",
   "execution_count": 35,
   "metadata": {
    "colab": {},
    "colab_type": "code",
    "id": "3j_R5EcrqDqB"
   },
   "outputs": [],
   "source": [
    "batch_size = 128\n",
    "num_classes = 7\n",
    "epochs = 20\n",
    "\n",
    "img_rows, img_cols = 28, 28"
   ]
  },
  {
   "cell_type": "code",
   "execution_count": 36,
   "metadata": {
    "colab": {},
    "colab_type": "code",
    "id": "6J_dEIC4qDqT"
   },
   "outputs": [],
   "source": [
    "# Since K.image_data_format == 'channels_last':\n",
    "x_train = x_train.reshape(x_train.shape[0], img_rows, img_cols, 1)\n",
    "x_val = x_val.reshape(x_val.shape[0], img_rows, img_cols, 1)\n",
    "\n",
    "input_shape = (img_rows, img_cols, 1)"
   ]
  },
  {
   "cell_type": "code",
   "execution_count": 37,
   "metadata": {
    "colab": {
     "base_uri": "https://localhost:8080/",
     "height": 449
    },
    "colab_type": "code",
    "id": "t1innwI3qDqe",
    "outputId": "bddc7a2f-3fc8-401d-8d9d-5928452e1b32"
   },
   "outputs": [
    {
     "name": "stdout",
     "output_type": "stream",
     "text": [
      "(6000,)\n",
      "(2000,)\n"
     ]
    },
    {
     "data": {
      "text/plain": [
       "(array([1482.,    0.,    0., 1482.,    0., 1545.,    0.,    0.,    0.,\n",
       "        1491.]),\n",
       " array([0. , 0.6, 1.2, 1.8, 2.4, 3. , 3.6, 4.2, 4.8, 5.4, 6. ]),\n",
       " <a list of 10 Patch objects>)"
      ]
     },
     "execution_count": 37,
     "metadata": {},
     "output_type": "execute_result"
    },
    {
     "data": {
      "image/png": "[encoded data removed]",
      "text/plain": [
       "<Figure size 432x288 with 1 Axes>"
      ]
     },
     "metadata": {},
     "output_type": "display_data"
    }
   ],
   "source": [
    "print(y_train.shape)\n",
    "print(y_val.shape)\n",
    "\n",
    "plt.hist(y_train)"
   ]
  },
  {
   "cell_type": "code",
   "execution_count": 38,
   "metadata": {
    "colab": {},
    "colab_type": "code",
    "id": "Qfo-r69CqDqt"
   },
   "outputs": [],
   "source": [
    "y_train = keras.utils.to_categorical(y_train)\n",
    "y_val = keras.utils.to_categorical(y_val)"
   ]
  },
  {
   "cell_type": "code",
   "execution_count": 39,
   "metadata": {
    "colab": {
     "base_uri": "https://localhost:8080/",
     "height": 51
    },
    "colab_type": "code",
    "id": "YniE8-4YqDq8",
    "outputId": "d19ad5e0-667e-4c63-a77d-c5e2209245bc"
   },
   "outputs": [
    {
     "name": "stdout",
     "output_type": "stream",
     "text": [
      "(6000, 7)\n",
      "(2000, 7)\n"
     ]
    }
   ],
   "source": [
    "print(y_train.shape)\n",
    "print(y_val.shape)"
   ]
  },
  {
   "cell_type": "code",
   "execution_count": 0,
   "metadata": {
    "colab": {
     "base_uri": "https://localhost:8080/",
     "height": 154
    },
    "colab_type": "code",
    "id": "pLzLsRewqDrO",
    "outputId": "664768db-c037-48a0-fd62-24786f54bbe4"
   },
   "outputs": [],
   "source": [
    "cnn = Sequential()\n",
    "\n",
    "cnn.add(Conv2D(32, kernel_size=(3, 3),\n",
    "                 activation='relu',\n",
    "                 kernel_initializer='he_normal',\n",
    "                 input_shape=(28, 28, 1)))\n",
    "cnn.add(MaxPooling2D((2, 2)))\n",
    "cnn.add(Dropout(0.25))\n",
    "cnn.add(Conv2D(64, \n",
    "                 kernel_size=(3, 3), \n",
    "                 activation='relu'))\n",
    "cnn.add(MaxPooling2D(pool_size=(2, 2)))\n",
    "cnn.add(Dropout(0.25))\n",
    "cnn.add(Conv2D(128, (3, 3), activation='relu'))\n",
    "cnn.add(Dropout(0.4))\n",
    "cnn.add(Flatten())\n",
    "cnn.add(Dense(128, activation='relu'))\n",
    "cnn.add(Dropout(0.3))\n",
    "cnn.add(Dense(7, activation='softmax'))\n",
    "\n",
    "\n",
    "cnn.compile(loss=keras.losses.categorical_crossentropy,\n",
    "            optimizer='adam',\n",
    "            metrics=['accuracy'])"
   ]
  },
  {
   "cell_type": "code",
   "execution_count": 0,
   "metadata": {
    "colab": {
     "base_uri": "https://localhost:8080/",
     "height": 812
    },
    "colab_type": "code",
    "id": "V64kzhQ4qDrb",
    "outputId": "5cf97244-b28a-4973-d2ad-57b8e7abd01b"
   },
   "outputs": [],
   "source": [
    "cnn.fit(x_train, y_train,\n",
    "        batch_size=batch_size,\n",
    "        epochs=20,\n",
    "        verbose=1,\n",
    "        validation_data=(x_val, y_val))"
   ]
  },
  {
   "cell_type": "code",
   "execution_count": 0,
   "metadata": {
    "colab": {
     "base_uri": "https://localhost:8080/",
     "height": 306
    },
    "colab_type": "code",
    "id": "I3P9NinJqDrv",
    "outputId": "1ab6ecbe-556d-4c82-a02e-40d6017e600f"
   },
   "outputs": [],
   "source": [
    "y_pred = cnn.predict_classes(x_val)\n",
    "y_val_confusion = [np.argmax(encoded_label) for encoded_label in y_val]\n",
    "print(\"Classification Report: \\n\", classification_report(y_val_confusion, y_pred))\n",
    "print(\"Confusion Matrix: \\n\", confusion_matrix(y_val_confusion, y_pred))"
   ]
  },
  {
   "cell_type": "markdown",
   "metadata": {
    "colab_type": "text",
    "id": "BitJxpXOxEXA"
   },
   "source": [
    "### Let's try Data Augmentation\n",
    "\n",
    "We augment additional examples in the `x/y_aug_train` and `x/y_aug_val` by augmenting data present in `x/y_train`. The data from `x/y_val` shall serve as a test data set here."
   ]
  },
  {
   "cell_type": "code",
   "execution_count": 9,
   "metadata": {
    "colab": {},
    "colab_type": "code",
    "id": "jsjKIrKWqDsG"
   },
   "outputs": [],
   "source": [
    "# Defines the options for augmentation\n",
    "datagen = ImageDataGenerator(\n",
    "    rotation_range=10,\n",
    "    horizontal_flip=True,\n",
    "    # fill_mode='nearest'\n",
    ")\n",
    "\n",
    "number_of_augmentation = 2\n",
    "\n",
    "def image_augmentation(image):\n",
    "    '''\n",
    "    Generates new images.\n",
    "    '''\n",
    "    images = []\n",
    "    # Take a 28, 28 image and transform into (1, 28, 28, 1)\n",
    "    image = image.reshape(1, img_rows, img_cols, 1)\n",
    "    i = 0\n",
    "    for x_batch in datagen.flow(image, batch_size=1):\n",
    "        images.append(x_batch)\n",
    "        i += 1\n",
    "        if i >= number_of_augmentation:\n",
    "            break\n",
    "    return images"
   ]
  },
  {
   "cell_type": "code",
   "execution_count": 10,
   "metadata": {
    "colab": {},
    "colab_type": "code",
    "id": "4zDhwmyLwm6u"
   },
   "outputs": [],
   "source": [
    "def augment_data(x, y):\n",
    "    no_of_training_ex = x.shape[0]\n",
    "    x_aug = []\n",
    "    y_aug = []\n",
    "    for i in range(no_of_training_ex):\n",
    "        image = x[i] # Image is (28, 28)\n",
    "        label = y[i]\n",
    "        aug_images = image_augmentation(image)\n",
    "        for aug_image in aug_images:\n",
    "            x_aug.append(aug_image.reshape((28, 28)))\n",
    "            y_aug.append(label)\n",
    "        # Now, also save the original image\n",
    "        x_aug.append(image)\n",
    "        y_aug.append(label)\n",
    "    x_aug = np.array(x_aug)\n",
    "    y_aug = np.array(y_aug)\n",
    "    return x_aug, y_aug"
   ]
  },
  {
   "cell_type": "code",
   "execution_count": 46,
   "metadata": {},
   "outputs": [
    {
     "name": "stdout",
     "output_type": "stream",
     "text": [
      "(6000, 28, 28)\n",
      "(6000,)\n"
     ]
    }
   ],
   "source": [
    "x_train, x_test, y_train, y_test = train_test_split(X, Y)\n",
    "\n",
    "x_train = x_train.reshape(x_train.shape[0], img_rows, img_cols)\n",
    "print(x_train.shape)\n",
    "print(y_train.shape)"
   ]
  },
  {
   "cell_type": "code",
   "execution_count": 47,
   "metadata": {
    "colab": {
     "base_uri": "https://localhost:8080/",
     "height": 86
    },
    "colab_type": "code",
    "id": "pWTfKidWxrpn",
    "outputId": "4c82199d-2566-4422-e79f-53a930f718d0"
   },
   "outputs": [
    {
     "name": "stdout",
     "output_type": "stream",
     "text": [
      "(18000, 28, 28)\n",
      "(18000,)\n"
     ]
    }
   ],
   "source": [
    "x_aug_data, y_aug_data = augment_data(x_train, y_train)\n",
    "\n",
    "print(x_aug_data.shape)\n",
    "print(y_aug_data.shape)"
   ]
  },
  {
   "cell_type": "code",
   "execution_count": 48,
   "metadata": {},
   "outputs": [],
   "source": [
    "x_aug_train, x_aug_val, y_aug_train, y_aug_val = train_test_split(x_aug_data, y_aug_data)"
   ]
  },
  {
   "cell_type": "code",
   "execution_count": 49,
   "metadata": {
    "colab": {
     "base_uri": "https://localhost:8080/",
     "height": 86
    },
    "colab_type": "code",
    "id": "1kaIzKA0x4et",
    "outputId": "20cecd8f-0bbf-4d38-8679-4fef39c4bca8"
   },
   "outputs": [
    {
     "name": "stdout",
     "output_type": "stream",
     "text": [
      "(13500, 28, 28, 1)\n",
      "(13500,)\n",
      "(4500, 28, 28, 1)\n",
      "(4500,)\n"
     ]
    }
   ],
   "source": [
    "x_aug_train = x_aug_train.reshape(x_aug_train.shape[0], 28, 28 , 1).astype('float32')\n",
    "x_aug_val = x_aug_val.reshape(x_aug_val.shape[0], 28, 28 , 1).astype('float32')\n",
    "\n",
    "# y_aug_train = keras.utils.to_categorical(y_aug_train)\n",
    "# y_aug_val = keras.utils.to_categorical(y_aug_val)\n",
    "\n",
    "print(x_aug_train.shape)\n",
    "print(y_aug_train.shape)\n",
    "print(x_aug_val.shape)\n",
    "print(y_aug_val.shape)"
   ]
  },
  {
   "cell_type": "code",
   "execution_count": 53,
   "metadata": {
    "colab": {
     "base_uri": "https://localhost:8080/",
     "height": 164
    },
    "colab_type": "code",
    "id": "h92hTCysyU4K",
    "outputId": "0c383ff4-8123-4776-d516-2741d9537d8e"
   },
   "outputs": [
    {
     "name": "stdout",
     "output_type": "stream",
     "text": [
      "6\n"
     ]
    },
    {
     "data": {
      "image/png": "[encoded data removed]",
      "text/plain": [
       "<Figure size 432x288 with 4 Axes>"
      ]
     },
     "metadata": {},
     "output_type": "display_data"
    }
   ],
   "source": [
    "# Let's visualise our transforms\n",
    "\n",
    "i = 3455\n",
    "\n",
    "fig, (ax1, ax2, ax3, ax4) = plt.subplots(1, 4)\n",
    "ax1.imshow(x_train[i].reshape(28, 28))\n",
    "ax2.imshow(x_aug_data[3*(i-1) + 3].reshape(28, 28))\n",
    "ax3.imshow(x_aug_data[3*(i-1) + 4].reshape(28, 28))\n",
    "ax4.imshow(x_aug_data[3*(i-1) + 5].reshape(28, 28))\n",
    "\n",
    "print(y_train[i])"
   ]
  },
  {
   "cell_type": "code",
   "execution_count": 54,
   "metadata": {
    "colab": {},
    "colab_type": "code",
    "id": "-Ot0oBQMyk_f"
   },
   "outputs": [
    {
     "name": "stdout",
     "output_type": "stream",
     "text": [
      "WARNING:tensorflow:From /opt/conda/lib/python3.6/site-packages/tensorflow/python/framework/op_def_library.py:263: colocate_with (from tensorflow.python.framework.ops) is deprecated and will be removed in a future version.\n",
      "Instructions for updating:\n",
      "Colocations handled automatically by placer.\n",
      "WARNING:tensorflow:From /opt/conda/lib/python3.6/site-packages/keras/backend/tensorflow_backend.py:3445: calling dropout (from tensorflow.python.ops.nn_ops) with keep_prob is deprecated and will be removed in a future version.\n",
      "Instructions for updating:\n",
      "Please use `rate` instead of `keep_prob`. Rate should be set to `rate = 1 - keep_prob`.\n"
     ]
    }
   ],
   "source": [
    "cnn_2 = Sequential()\n",
    "\n",
    "cnn_2.add(InputLayer(input_shape=(img_rows, img_cols, 1)))\n",
    "cnn_2.add(BatchNormalization())\n",
    "cnn_2.add(Conv2D(64, (4, 4), padding='same', activation='relu'))\n",
    "cnn_2.add(MaxPooling2D(pool_size=(2, 2)))\n",
    "cnn_2.add(Dropout(0.1))\n",
    "cnn_2.add(Conv2D(64, (4, 4), activation='relu'))\n",
    "cnn_2.add(MaxPooling2D(pool_size=(2, 2)))\n",
    "cnn_2.add(Dropout(0.3))\n",
    "cnn_2.add(Flatten())\n",
    "cnn_2.add(Dense(256, activation='relu'))\n",
    "cnn_2.add(Dropout(0.5))\n",
    "cnn_2.add(Dense(64, activation='relu'))\n",
    "cnn_2.add(BatchNormalization())\n",
    "\n",
    "cnn_2.add(Dense(7, activation='softmax'))\n",
    "\n",
    "cnn_2.compile(loss='categorical_crossentropy',\n",
    "            optimizer=optimizers.Adam(),\n",
    "            metrics=['accuracy'])"
   ]
  },
  {
   "cell_type": "code",
   "execution_count": 56,
   "metadata": {},
   "outputs": [],
   "source": [
    "y_aug_train = keras.utils.to_categorical(y_aug_train)\n",
    "y_aug_val = keras.utils.to_categorical(y_aug_val)"
   ]
  },
  {
   "cell_type": "code",
   "execution_count": 57,
   "metadata": {
    "colab": {
     "base_uri": "https://localhost:8080/",
     "height": 200
    },
    "colab_type": "code",
    "id": "prFA22qty-WP",
    "outputId": "e8ab1a11-ee5a-45a7-b3b6-f564d5e7a7cc"
   },
   "outputs": [
    {
     "name": "stdout",
     "output_type": "stream",
     "text": [
      "WARNING:tensorflow:From /opt/conda/lib/python3.6/site-packages/tensorflow/python/ops/math_ops.py:3066: to_int32 (from tensorflow.python.ops.math_ops) is deprecated and will be removed in a future version.\n",
      "Instructions for updating:\n",
      "Use tf.cast instead.\n",
      "Train on 13500 samples, validate on 4500 samples\n",
      "Epoch 1/40\n",
      "13500/13500 [==============================] - 3s 201us/step - loss: 0.9812 - acc: 0.6537 - val_loss: 0.6350 - val_acc: 0.7807\n",
      "Epoch 2/40\n",
      "13500/13500 [==============================] - 1s 68us/step - loss: 0.5691 - acc: 0.7859 - val_loss: 0.4322 - val_acc: 0.8320\n",
      "Epoch 3/40\n",
      "13500/13500 [==============================] - 1s 67us/step - loss: 0.4845 - acc: 0.8121 - val_loss: 0.4014 - val_acc: 0.8411\n",
      "Epoch 4/40\n",
      "13500/13500 [==============================] - 1s 67us/step - loss: 0.4354 - acc: 0.8296 - val_loss: 0.3617 - val_acc: 0.8569\n",
      "Epoch 5/40\n",
      "13500/13500 [==============================] - 1s 67us/step - loss: 0.4131 - acc: 0.8372 - val_loss: 0.3525 - val_acc: 0.8620\n",
      "Epoch 6/40\n",
      "13500/13500 [==============================] - 1s 70us/step - loss: 0.3772 - acc: 0.8477 - val_loss: 0.3568 - val_acc: 0.8531\n",
      "Epoch 7/40\n",
      "13500/13500 [==============================] - 1s 68us/step - loss: 0.3569 - acc: 0.8564 - val_loss: 0.3207 - val_acc: 0.8678\n",
      "Epoch 8/40\n",
      "13500/13500 [==============================] - 1s 68us/step - loss: 0.3422 - acc: 0.8606 - val_loss: 0.3233 - val_acc: 0.8704\n",
      "Epoch 9/40\n",
      "13500/13500 [==============================] - 1s 67us/step - loss: 0.3294 - acc: 0.8665 - val_loss: 0.2856 - val_acc: 0.8902\n",
      "Epoch 10/40\n",
      "13500/13500 [==============================] - 1s 68us/step - loss: 0.3093 - acc: 0.8747 - val_loss: 0.2775 - val_acc: 0.8953\n",
      "Epoch 11/40\n",
      "13500/13500 [==============================] - 1s 67us/step - loss: 0.2940 - acc: 0.8813 - val_loss: 0.2593 - val_acc: 0.8960\n",
      "Epoch 12/40\n",
      "13500/13500 [==============================] - 1s 68us/step - loss: 0.2850 - acc: 0.8858 - val_loss: 0.2782 - val_acc: 0.8902\n",
      "Epoch 13/40\n",
      "13500/13500 [==============================] - 1s 67us/step - loss: 0.2652 - acc: 0.8949 - val_loss: 0.2605 - val_acc: 0.8976\n",
      "Epoch 14/40\n",
      "13500/13500 [==============================] - 1s 67us/step - loss: 0.2575 - acc: 0.9013 - val_loss: 0.2512 - val_acc: 0.9060\n",
      "Epoch 15/40\n",
      "13500/13500 [==============================] - 1s 67us/step - loss: 0.2486 - acc: 0.9037 - val_loss: 0.2360 - val_acc: 0.9080\n",
      "Epoch 16/40\n",
      "13500/13500 [==============================] - 1s 67us/step - loss: 0.2268 - acc: 0.9100 - val_loss: 0.2344 - val_acc: 0.9160\n",
      "Epoch 17/40\n",
      "13500/13500 [==============================] - 1s 68us/step - loss: 0.2305 - acc: 0.9113 - val_loss: 0.2487 - val_acc: 0.9038\n",
      "Epoch 18/40\n",
      "13500/13500 [==============================] - 1s 67us/step - loss: 0.2174 - acc: 0.9153 - val_loss: 0.2166 - val_acc: 0.9213\n",
      "Epoch 19/40\n",
      "13500/13500 [==============================] - 1s 67us/step - loss: 0.2059 - acc: 0.9183 - val_loss: 0.2334 - val_acc: 0.9120\n",
      "Epoch 20/40\n",
      "13500/13500 [==============================] - 1s 67us/step - loss: 0.1930 - acc: 0.9229 - val_loss: 0.2191 - val_acc: 0.9187\n",
      "Epoch 21/40\n",
      "13500/13500 [==============================] - 1s 67us/step - loss: 0.1915 - acc: 0.9266 - val_loss: 0.2257 - val_acc: 0.9107\n",
      "Epoch 22/40\n",
      "13500/13500 [==============================] - 1s 67us/step - loss: 0.1837 - acc: 0.9271 - val_loss: 0.2016 - val_acc: 0.9260\n",
      "Epoch 23/40\n",
      "13500/13500 [==============================] - 1s 68us/step - loss: 0.1626 - acc: 0.9355 - val_loss: 0.2199 - val_acc: 0.9184\n",
      "Epoch 24/40\n",
      "13500/13500 [==============================] - 1s 68us/step - loss: 0.1648 - acc: 0.9348 - val_loss: 0.2008 - val_acc: 0.9247\n",
      "Epoch 25/40\n",
      "13500/13500 [==============================] - 1s 68us/step - loss: 0.1625 - acc: 0.9373 - val_loss: 0.2009 - val_acc: 0.9276\n",
      "Epoch 26/40\n",
      "13500/13500 [==============================] - 1s 68us/step - loss: 0.1598 - acc: 0.9373 - val_loss: 0.2113 - val_acc: 0.9231\n",
      "Epoch 27/40\n",
      "13500/13500 [==============================] - 1s 68us/step - loss: 0.1506 - acc: 0.9409 - val_loss: 0.1955 - val_acc: 0.9298\n",
      "Epoch 28/40\n",
      "13500/13500 [==============================] - 1s 68us/step - loss: 0.1548 - acc: 0.9407 - val_loss: 0.1964 - val_acc: 0.9271\n",
      "Epoch 29/40\n",
      "13500/13500 [==============================] - 1s 68us/step - loss: 0.1342 - acc: 0.9482 - val_loss: 0.1900 - val_acc: 0.9340\n",
      "Epoch 30/40\n",
      "13500/13500 [==============================] - 1s 67us/step - loss: 0.1388 - acc: 0.9469 - val_loss: 0.1854 - val_acc: 0.9347\n",
      "Epoch 31/40\n",
      "13500/13500 [==============================] - 1s 67us/step - loss: 0.1384 - acc: 0.9494 - val_loss: 0.2048 - val_acc: 0.9251\n",
      "Epoch 32/40\n",
      "13500/13500 [==============================] - 1s 69us/step - loss: 0.1308 - acc: 0.9487 - val_loss: 0.1836 - val_acc: 0.9347\n",
      "Epoch 33/40\n",
      "13500/13500 [==============================] - 1s 67us/step - loss: 0.1198 - acc: 0.9554 - val_loss: 0.2004 - val_acc: 0.9329\n",
      "Epoch 34/40\n",
      "13500/13500 [==============================] - 1s 69us/step - loss: 0.1219 - acc: 0.9541 - val_loss: 0.1905 - val_acc: 0.9387\n",
      "Epoch 35/40\n",
      "13500/13500 [==============================] - 1s 68us/step - loss: 0.1168 - acc: 0.9569 - val_loss: 0.2086 - val_acc: 0.9287\n",
      "Epoch 36/40\n",
      "13500/13500 [==============================] - 1s 67us/step - loss: 0.1230 - acc: 0.9538 - val_loss: 0.1940 - val_acc: 0.9378\n",
      "Epoch 37/40\n",
      "13500/13500 [==============================] - 1s 68us/step - loss: 0.1097 - acc: 0.9585 - val_loss: 0.1921 - val_acc: 0.9324\n",
      "Epoch 38/40\n",
      "13500/13500 [==============================] - 1s 68us/step - loss: 0.1094 - acc: 0.9568 - val_loss: 0.1976 - val_acc: 0.9322\n",
      "Epoch 39/40\n",
      "13500/13500 [==============================] - 1s 68us/step - loss: 0.1082 - acc: 0.9596 - val_loss: 0.1859 - val_acc: 0.9373\n",
      "Epoch 40/40\n",
      "13500/13500 [==============================] - 1s 68us/step - loss: 0.1125 - acc: 0.9553 - val_loss: 0.1865 - val_acc: 0.9376\n"
     ]
    },
    {
     "data": {
      "text/plain": [
       "<keras.callbacks.History at 0x7f691b1c67f0>"
      ]
     },
     "execution_count": 57,
     "metadata": {},
     "output_type": "execute_result"
    }
   ],
   "source": [
    "cnn_2.fit(x_aug_train, y_aug_train, batch_size=batch_size, epochs=40, verbose=1, validation_data=(x_aug_val, y_aug_val))"
   ]
  },
  {
   "cell_type": "code",
   "execution_count": 58,
   "metadata": {
    "colab": {},
    "colab_type": "code",
    "id": "KUcmZS4Tz8Ag"
   },
   "outputs": [
    {
     "name": "stdout",
     "output_type": "stream",
     "text": [
      "Accuracy on the validation set (augmented):  0.9375555555025736\n"
     ]
    }
   ],
   "source": [
    "score = cnn_2.evaluate(x_aug_val, y_aug_val, verbose=0)\n",
    "print(\"Accuracy on the validation set (augmented): \", score[1])"
   ]
  },
  {
   "cell_type": "code",
   "execution_count": 63,
   "metadata": {},
   "outputs": [],
   "source": [
    "x_val = x_val.reshape(x_val.shape[0], 28, 28, 1)\n",
    "y_val = keras.utils.to_categorical(y_val)"
   ]
  },
  {
   "cell_type": "code",
   "execution_count": 65,
   "metadata": {},
   "outputs": [
    {
     "name": "stdout",
     "output_type": "stream",
     "text": [
      "Accuracy on the test set:  0.955\n"
     ]
    }
   ],
   "source": [
    "score = cnn_2.evaluate(x_val, y_val, verbose=0)\n",
    "print(\"Accuracy on the test set: \", score[1])"
   ]
  },
  {
   "cell_type": "markdown",
   "metadata": {},
   "source": [
    "`95.5%` - We are good to go. \\o/"
   ]
  },
  {
   "cell_type": "code",
   "execution_count": 67,
   "metadata": {},
   "outputs": [],
   "source": [
    "PATH = \"../input/test-images-midas-assignment/\"\n",
    "\n",
    "with open(PATH + \"test_image.pkl\", 'rb') as f:\n",
    "    x_final = np.array(pickle.load(f))\n",
    "\n",
    "x_final = x_final / 255"
   ]
  },
  {
   "cell_type": "code",
   "execution_count": 69,
   "metadata": {},
   "outputs": [],
   "source": [
    "x_final = x_final.reshape(x_final.shape[0], 28, 28, 1)"
   ]
  },
  {
   "cell_type": "code",
   "execution_count": 71,
   "metadata": {},
   "outputs": [],
   "source": [
    "y_pred = cnn_2.predict_classes(x_final)"
   ]
  },
  {
   "cell_type": "code",
   "execution_count": 72,
   "metadata": {},
   "outputs": [
    {
     "name": "stdout",
     "output_type": "stream",
     "text": [
      "(2000,)\n"
     ]
    }
   ],
   "source": [
    "print(y_pred.shape)"
   ]
  },
  {
   "cell_type": "code",
   "execution_count": null,
   "metadata": {},
   "outputs": [],
   "source": [
    "import csv\n",
    "\n",
    "with open('Rahul_Jha.csv', mode='w') as f:\n",
    "    writer = csv.writer(f, delimiter=',', quotechar='\"', quoting=csv.QUOTE_MINIMAL)\n",
    "    writer.writerow(['image_index', 'class'])\n",
    "\n",
    "    for i in range(len(x_final)):\n",
    "        writer.writerow([i, y_pred[i]])"
   ]
  },
  {
   "cell_type": "code",
   "execution_count": null,
   "metadata": {},
   "outputs": [],
   "source": []
  }
 ],
 "metadata": {
  "accelerator": "GPU",
  "colab": {
   "name": "CV Problem.ipynb",
   "provenance": [],
   "version": "0.3.2"
  },
  "kernelspec": {
   "display_name": "Python 3",
   "language": "python",
   "name": "python3"
  },
  "language_info": {
   "codemirror_mode": {
    "name": "ipython",
    "version": 3
   },
   "file_extension": ".py",
   "mimetype": "text/x-python",
   "name": "python",
   "nbconvert_exporter": "python",
   "pygments_lexer": "ipython3",
   "version": "3.6.5"
  }
 },
 "nbformat": 4,
 "nbformat_minor": 1
}
