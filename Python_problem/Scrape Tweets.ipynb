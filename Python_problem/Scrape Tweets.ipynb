{
 "cells": [
  {
   "cell_type": "code",
   "execution_count": null,
   "metadata": {
    "scrolled": true
   },
   "outputs": [],
   "source": [
    "from requests_oauthlib import OAuth1Session\n",
    "\n",
    "import jsonlines\n",
    "import pandas as pd\n",
    "import secrets"
   ]
  },
  {
   "cell_type": "code",
   "execution_count": null,
   "metadata": {
    "scrolled": true
   },
   "outputs": [],
   "source": [
    "# Create an OAuth1Session for accessing endpoint\n",
    "twitter = OAuth1Session(\n",
    "    secrets.CLIENT_KEY,\n",
    "    client_secret=secrets.CLIENT_SECRET,\n",
    "    resource_owner_key=secrets.RESOURCE_TOKEN,\n",
    "    resource_owner_secret=secrets.RESOURCE_SECRET)"
   ]
  },
  {
   "cell_type": "markdown",
   "metadata": {},
   "source": [
    "### URL Configuration\n",
    "\n",
    "The URL has been configured with the following in context:\n",
    "* `screen_name = midasIIITD`: Specifies the username, the tweets of whom need be fetched.\n",
    "* `count = 200`: Specifies the no. of tweets to be fetched in one tweet.\n",
    "* `trim_user = true`: Don't fetch user information along with tweets as it is irrelevant anyways.\n",
    "* `tweet_mode = extended`: This mode allows us to access additional media information and the full text of the tweet."
   ]
  },
  {
   "cell_type": "code",
   "execution_count": null,
   "metadata": {
    "scrolled": true
   },
   "outputs": [],
   "source": [
    "screen_name = 'midasIIITD'\n",
    "\n",
    "url = 'https://api.twitter.com/1.1/statuses/user_timeline.json?screen_name={}&count=200&trim_user=true&tweet_mode=extended'.format(screen_name)"
   ]
  },
  {
   "cell_type": "code",
   "execution_count": null,
   "metadata": {
    "scrolled": true
   },
   "outputs": [],
   "source": [
    "tweets = twitter.get(url).json()\n",
    "attempts = 1"
   ]
  },
  {
   "cell_type": "markdown",
   "metadata": {},
   "source": [
    "### Pagination\n",
    "\n",
    "Pagination of tweets is a nuanced process because of real-time services. A reliable way to paginate through tweets is to assign each tweet a unique ID, such that a newer tweet will always have an ID greater than all the tweets which happened before it. We can now use this ID as key for easy pagination. This key here is known as `max_id` and is directly accesible through the JSON response."
   ]
  },
  {
   "cell_type": "code",
   "execution_count": null,
   "metadata": {
    "scrolled": true
   },
   "outputs": [],
   "source": [
    "while len(tweets) < 900 and attempts <= 5:\n",
    "    max_id = str(tweets[-1]['id'] - 1)\n",
    "    tweets = tweets + twitter.get(url + '&max_id={}'.format(max_id)).json()\n",
    "    attempts = attempts + 1    "
   ]
  },
  {
   "cell_type": "markdown",
   "metadata": {},
   "source": [
    "- [x] DEBUG Check: Test that there are no duplicate tweets"
   ]
  },
  {
   "cell_type": "code",
   "execution_count": null,
   "metadata": {
    "scrolled": true
   },
   "outputs": [],
   "source": [
    "d_tweets = []\n",
    "for tweet in tweets:\n",
    "    if not (tweet in d_tweets):\n",
    "        d_tweets.append(tweet)\n",
    "# pprint(d_tweets)\n",
    "print(len(d_tweets) == len(tweets))"
   ]
  },
  {
   "cell_type": "code",
   "execution_count": null,
   "metadata": {
    "scrolled": true
   },
   "outputs": [],
   "source": [
    "with jsonlines.open('tweets.jsonl', mode='w') as writer:\n",
    "    writer.write_all(tweets)"
   ]
  },
  {
   "cell_type": "markdown",
   "metadata": {},
   "source": [
    "- [x] DEBUG Check: Test that tweets can be retrieved completely"
   ]
  },
  {
   "cell_type": "code",
   "execution_count": null,
   "metadata": {
    "scrolled": true
   },
   "outputs": [],
   "source": [
    "with jsonlines.open('tweets.jsonl') as f:\n",
    "    test_open = [data for data in f]\n",
    "print(test_open == tweets)"
   ]
  },
  {
   "cell_type": "code",
   "execution_count": null,
   "metadata": {
    "scrolled": true
   },
   "outputs": [],
   "source": [
    "demanded_info = ['full_text', 'created_at', 'favorite_count', 'retweet_count', 'extended_entities']\n",
    "\n",
    "tweets_info = []\n",
    "for tweet in tweets:\n",
    "    if not (tweet.get('retweeted_status') is None):\n",
    "        tweets_info.append({info_holder: tweet['retweeted_status'].get(info_holder) for info_holder in demanded_info})\n",
    "        continue\n",
    "    tweets_info.append({info_holder: tweet.get(info_holder) for info_holder in demanded_info})"
   ]
  },
  {
   "cell_type": "code",
   "execution_count": null,
   "metadata": {
    "scrolled": true
   },
   "outputs": [],
   "source": [
    "for info in tweets_info:\n",
    "    count = 0\n",
    "    # Since info['extended_entities'] = None for many entries here,\n",
    "    # we cannot use info.get('extended_entities', {})\n",
    "    ee = info.get('extended_entities') or {}\n",
    "    media = ee.get('media') or []\n",
    "    for medium in media:\n",
    "        if medium.get('type') == 'photo':\n",
    "            count = count + 1\n",
    "    info['image_count'] = str(count or None)\n",
    "    del info['extended_entities']"
   ]
  },
  {
   "cell_type": "code",
   "execution_count": null,
   "metadata": {
    "scrolled": true
   },
   "outputs": [],
   "source": [
    "# Display full text\n",
    "pd.set_option('display.max_colwidth', -1)\n",
    "pd.set_option('max_rows', 900)"
   ]
  },
  {
   "cell_type": "code",
   "execution_count": null,
   "metadata": {
    "scrolled": false
   },
   "outputs": [],
   "source": [
    "df = pd.DataFrame(tweets_info)\n",
    "df.columns = ['Timestamp', 'Favorites', 'Text', 'Image Count', 'Retweets']\n",
    "display(df)"
   ]
  },
  {
   "cell_type": "markdown",
   "metadata": {},
   "source": [
    "# That's it. Yay!"
   ]
  }
 ],
 "metadata": {
  "kernelspec": {
   "display_name": "Python 3",
   "language": "python",
   "name": "python3"
  },
  "language_info": {
   "codemirror_mode": {
    "name": "ipython",
    "version": 3
   },
   "file_extension": ".py",
   "mimetype": "text/x-python",
   "name": "python",
   "nbconvert_exporter": "python",
   "pygments_lexer": "ipython3",
   "version": "3.6.5"
  }
 },
 "nbformat": 4,
 "nbformat_minor": 2
}
